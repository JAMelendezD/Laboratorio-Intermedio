{
 "cells": [
  {
   "cell_type": "code",
   "execution_count": 19,
   "metadata": {},
   "outputs": [],
   "source": [
    "import numpy as np\n",
    "import matplotlib.pyplot as plt\n",
    "from scipy import special, optimize\n",
    "import matplotlib.mlab as mlab\n",
    "import math\n",
    "import matplotlib.gridspec as gridspec"
   ]
  },
  {
   "cell_type": "code",
   "execution_count": 20,
   "metadata": {},
   "outputs": [],
   "source": [
    "datos = np.genfromtxt('datos.csv', delimiter = ',', skip_header = 1)"
   ]
  },
  {
   "cell_type": "code",
   "execution_count": 21,
   "metadata": {},
   "outputs": [],
   "source": [
    "hist = datos[:,0]\n",
    "r = datos[:,1]\n",
    "r = r[np.logical_not(np.isnan(r))]\n",
    "con = datos[:,2]\n",
    "con = con[np.logical_not(np.isnan(con))]\n",
    "err = datos[:,3]\n",
    "err = err[np.logical_not(np.isnan(err))]\n",
    "sindir = datos[:,4]\n",
    "sindir = sindir[np.logical_not(np.isnan(sindir))]\n",
    "dir1 = datos[:,5]\n",
    "dir1 = dir1[np.logical_not(np.isnan(dir1))]\n",
    "dir2 = datos[:,6]\n",
    "dir2 = dir2[np.logical_not(np.isnan(dir2))]\n",
    "groplom = datos[:,7]\n",
    "groplom = groplom[np.logical_not(np.isnan(groplom))]\n",
    "plom = datos[:,8]\n",
    "plom = plom[np.logical_not(np.isnan(plom))]\n",
    "groal = datos[:,9]\n",
    "groal = groal[np.logical_not(np.isnan(groal))]\n",
    "al = datos[:,10]\n",
    "al = al[np.logical_not(np.isnan(al))]\n",
    "gropla = datos[:,11]\n",
    "gropla = gropla[np.logical_not(np.isnan(gropla))]\n",
    "pla = datos[:,12]\n",
    "pla = pla[np.logical_not(np.isnan(pla))]\n",
    "gropol = datos[:,13]\n",
    "gropol = gropol[np.logical_not(np.isnan(gropol))]\n",
    "pol = datos[:,14]\n",
    "pol = pol[np.logical_not(np.isnan(pol))]\n",
    "gropap = datos[:,15]\n",
    "gropap = gropap[np.logical_not(np.isnan(gropap))]\n",
    "pap = datos[:,16]\n",
    "pap = pap[np.logical_not(np.isnan(pap))]"
   ]
  },
  {
   "cell_type": "code",
   "execution_count": 22,
   "metadata": {},
   "outputs": [],
   "source": [
    "n, bins, patches = plt.hist(hist, 10, normed=1, facecolor='green', alpha=0.75)\n",
    "plt.xlabel('Conteo')\n",
    "plt.ylabel('Probabilidad')\n",
    "plt.title(r'$Histograma \\ de \\  Radioactividad$')\n",
    "plt.grid(True)\n",
    "plt.savefig('hist.pdf', format='pdf', dpi=1200)\n",
    "plt.close()"
   ]
  },
  {
   "cell_type": "code",
   "execution_count": 23,
   "metadata": {},
   "outputs": [],
   "source": [
    "gs = gridspec.GridSpec(2, 2)\n",
    "bars1 = [69.8, 199.4]\n",
    "bars2 = [58.8, 171] \n",
    "bars3 = [5, 11.4]\n",
    "yer1 = [8.3, 14.1]\n",
    "yer2 = [ 7.7, 13.1]\n",
    "yer3 = [ 2.2, 3.4]\n",
    "\n",
    "barsm1 = [6.6]\n",
    "\n",
    "barsr1 = [7146]\n",
    "barsr2 = [5611]\n",
    "barsr3 = [72]\n",
    "yerr1 = [84.5]\n",
    "yerr2 = [74.9]\n",
    "yerr3 = [8.5]\n",
    "\n",
    "\n",
    "\n",
    "barsm2 = [5]\n",
    "barsm3 = [3.4]\n",
    "yerm1 = [2.6]\n",
    "yerm2 = [2.2]\n",
    "yerm3 = [1.8]\n",
    "\n",
    "\n",
    "barWidth = 0.3\n",
    "r1 = np.arange(len(bars1))\n",
    "r2 = [x + barWidth for x in r1]\n",
    "r3 = [x + 2*barWidth for x in r1]\n",
    "\n",
    "r1m = np.arange(len(barsm1))\n",
    "r2m = [x + barWidth for x in r1m]\n",
    "r3m = [x + 2*barWidth for x in r1m]\n",
    "\n",
    "\n",
    "ax = plt.subplot(gs[0, 0])\n",
    "plt.bar(r1m,barsm1, width = barWidth, color = 'blue', edgecolor = 'black', yerr=yerm1, ecolor = 'k', capsize=7, label='Sin obstaculo')\n",
    "plt.bar(r2m,barsm2, width = barWidth, color = 'cyan', edgecolor = 'black', yerr=yerm2, ecolor = 'k', capsize=7, label='Papel')\n",
    "plt.bar(r3m,barsm3, width = barWidth, color = 'red', edgecolor = 'black', yerr=yerm3, ecolor = 'k', capsize=7, label='Plomo')\n",
    "plt.xticks([r + barWidth for r in range(len(bars1))], ['Columbita'])\n",
    "plt.ylabel('Conteo')\n",
    "ax = plt.subplot(gs[0, 1])\n",
    "plt.bar(r1m,barsr1, width = barWidth, color = 'blue', edgecolor = 'black', yerr=yerr1, ecolor = 'k', capsize=7, label='Sin obstaculo')\n",
    "plt.bar(r2m,barsr2, width = barWidth, color = 'cyan', edgecolor = 'black', yerr=yerr2, ecolor = 'k', capsize=7, label='Papel')\n",
    "plt.bar(r3m,barsr3, width = barWidth, color = 'red', edgecolor = 'black', yerr=yerr3, ecolor = 'k', capsize=7, label='Plomo')\n",
    "plt.xticks([r + barWidth for r in range(len(bars1))], ['Ra-226'])\n",
    "plt.ylabel('Conteo')\n",
    "ax = plt.subplot(gs[1, :])\n",
    "plt.bar(r1,bars1, width = barWidth, color = 'blue', edgecolor = 'black', yerr=yer1, ecolor = 'k', capsize=7, label='Sin obstaculo')\n",
    "plt.bar(r2,bars2, width = barWidth, color = 'cyan', edgecolor = 'black', yerr=yer2, ecolor = 'k', capsize=7, label='Papel')\n",
    "plt.bar(r3,bars3, width = barWidth, color = 'red', edgecolor = 'black', yerr=yer3, ecolor = 'k', capsize=7, label='Plomo')\n",
    "plt.xticks([r + barWidth for r in range(len(bars1))], ['Manto', 'Cs-137'])\n",
    "plt.ylabel('Conteo')\n",
    "plt.legend(loc=2, prop={'size': 8})\n",
    "plt.savefig('tipo.pdf', format='pdf', dpi=1200)\n",
    "plt.close()"
   ]
  },
  {
   "cell_type": "code",
   "execution_count": 24,
   "metadata": {},
   "outputs": [],
   "source": [
    "a,b = np.poly1d(np.polyfit(r, con, 1))\n",
    "plomm,plomb = np.poly1d(np.polyfit(groplom, plom, 1))\n",
    "alm,alb = np.poly1d(np.polyfit(groal, al, 1))\n",
    "papm,papb = np.poly1d(np.polyfit(gropap, pap, 1))"
   ]
  },
  {
   "cell_type": "code",
   "execution_count": 25,
   "metadata": {},
   "outputs": [],
   "source": [
    "plt.scatter(r, con, c='k', label=r'$^{226}Ra$')\n",
    "plt.plot(r,a*r+b, '--r')\n",
    "plt.errorbar(r, con, yerr=err ,xerr=0.0012 ,ecolor='k',fmt='ko')\n",
    "plt.text(600,600,r'$y=1.29x+81.6$',color='r')\n",
    "plt.text(650,750,r'$R^2 = 0.99$',color='k')\n",
    "plt.title(r'$Eventos \\ por \\ segundo$ vs $1/r^2$')\n",
    "plt.xlim(20,1200)\n",
    "plt.ylabel(r'$Eventos \\ por \\ segundo (Be)$')\n",
    "plt.xlabel(r'$1/r^2 (1/m^2)$')\n",
    "plt.legend(loc =2)\n",
    "plt.savefig('distancia.pdf', format='pdf', dpi=1200)\n",
    "plt.close()"
   ]
  },
  {
   "cell_type": "code",
   "execution_count": 26,
   "metadata": {},
   "outputs": [],
   "source": [
    "angles = np.deg2rad(10*np.arange(-9, 9))\n",
    "plt.scatter(dir1 * np.cos(angles), dir1 * np.sin(angles), c = 'b', label = \"Polaridad 1\")\n",
    "plt.scatter(dir2 * np.cos(angles), dir2 * np.sin(angles), c = 'r', label = \"Polaridad 2\")\n",
    "plt.scatter(sindir * np.cos(angles), sindir * np.sin(angles), c = 'k', label = \"Sin Campo\")\n",
    "plt.arrow(0, 0, 800, 0, head_width=20, head_length=20, fc='k', ec='k')\n",
    "plt.arrow(0, 0, 400, 250, head_width=20, head_length=20, fc='r', ec='r')\n",
    "plt.arrow(0, 0, 300, -350, head_width=20, head_length=20, fc='b', ec='b')\n",
    "plt.legend()\n",
    "plt.xlabel(\"Conteos (Bq)\")\n",
    "plt.ylabel(\"Conteos (Bq)\")\n",
    "plt.savefig('magnetico.pdf', format='pdf', dpi=1200)\n",
    "plt.close()"
   ]
  },
  {
   "cell_type": "code",
   "execution_count": 27,
   "metadata": {},
   "outputs": [],
   "source": [
    "plt.scatter(groplom, plom , color ='k',label = 'Plomo')\n",
    "plt.scatter(groal, al , color ='r', label = 'Al')\n",
    "plt.scatter(gropla, pla , color ='c',label = 'Plastico')\n",
    "plt.scatter(gropol, pol , color ='orange', label = 'Poliestireno')\n",
    "plt.scatter(gropap, pap , color ='m', label = 'Papel')\n",
    "plt.plot(groplom, plomm*groplom+plomb, '--k')\n",
    "plt.plot(groal, alm*groal+alb, '--r')\n",
    "plt.xlim(-0.2,7.0)\n",
    "plt.plot(gropap, papm*gropap+papb, '--m')\n",
    "plt.text(1,2,r'$y_{Al}=-0.44x+2.3$',color='r')\n",
    "plt.text(0.8,3,r'$y_{Pa}=-0.74x+3.0$',color='m')\n",
    "plt.text(4,1,r'$y_{Pl}=-0.24x+1.9$',color='k')\n",
    "plt.title(r'$Grosor$ vs $Conteo$')\n",
    "plt.ylabel(r'$log_{10}(Eventos \\ por \\ segundo) $')\n",
    "plt.xlabel(r'$Grosor \\ (mm)$')\n",
    "plt.legend()\n",
    "plt.savefig('grosor.pdf', format='pdf', dpi=1200)"
   ]
  },
  {
   "cell_type": "code",
   "execution_count": null,
   "metadata": {},
   "outputs": [],
   "source": []
  },
  {
   "cell_type": "code",
   "execution_count": null,
   "metadata": {},
   "outputs": [],
   "source": []
  }
 ],
 "metadata": {
  "anaconda-cloud": {},
  "kernelspec": {
   "display_name": "Python [Root]",
   "language": "python",
   "name": "Python [Root]"
  },
  "language_info": {
   "codemirror_mode": {
    "name": "ipython",
    "version": 3
   },
   "file_extension": ".py",
   "mimetype": "text/x-python",
   "name": "python",
   "nbconvert_exporter": "python",
   "pygments_lexer": "ipython3",
   "version": "3.5.2"
  }
 },
 "nbformat": 4,
 "nbformat_minor": 2
}
