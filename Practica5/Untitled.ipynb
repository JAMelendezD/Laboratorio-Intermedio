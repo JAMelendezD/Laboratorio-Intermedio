{
 "cells": [
  {
   "cell_type": "code",
   "execution_count": 1,
   "metadata": {},
   "outputs": [],
   "source": [
    "import numpy as np\n",
    "import matplotlib.pyplot as plt\n",
    "from scipy import special, optimize\n",
    "import matplotlib.mlab as mlab\n",
    "import math\n",
    "import matplotlib.gridspec as gridspec\n",
    "from scipy import special, optimize"
   ]
  },
  {
   "cell_type": "code",
   "execution_count": 2,
   "metadata": {},
   "outputs": [],
   "source": [
    "datos = np.genfromtxt('datos.csv', delimiter = ',', skip_header = 1)"
   ]
  },
  {
   "cell_type": "code",
   "execution_count": 3,
   "metadata": {},
   "outputs": [],
   "source": [
    "d1 = datos[:,0]\n",
    "d1 = d1[np.logical_not(np.isnan(d1))]\n",
    "I1 = datos[:,1]\n",
    "I1 = I1[np.logical_not(np.isnan(I1))]\n",
    "I2 = datos[:,2]\n",
    "I2 = I2[np.logical_not(np.isnan(I2))]\n",
    "t1 = datos[:,3]\n",
    "t1 = t1[np.logical_not(np.isnan(t1))]\n",
    "t2 = datos[:,4]\n",
    "t2 = t2[np.logical_not(np.isnan(t2))]\n",
    "I3 = datos[:,5]\n",
    "I3 = I3[np.logical_not(np.isnan(I3))]\n",
    "d2 = datos[:,6]\n",
    "d2 = d2[np.logical_not(np.isnan(d2))]\n",
    "I4 = datos[:,7]\n",
    "I4 = I4[np.logical_not(np.isnan(I4))]\n",
    "d3 = datos[:,9]\n",
    "d3 = d3[np.logical_not(np.isnan(d3))]\n",
    "m = datos[:,8]\n",
    "m = m[np.logical_not(np.isnan(m))]"
   ]
  },
  {
   "cell_type": "code",
   "execution_count": 4,
   "metadata": {},
   "outputs": [
    {
     "name": "stdout",
     "output_type": "stream",
     "text": [
      "2.23114404309 0.00143238987306\n"
     ]
    }
   ],
   "source": [
    "B = I1*1.36*10**(-3)\n",
    "F = d1*10**(-2)*9.8*1.6*10**(-3)\n",
    "a,b = np.poly1d(np.polyfit(F, B, 1))\n",
    "print(a,b)"
   ]
  },
  {
   "cell_type": "code",
   "execution_count": 5,
   "metadata": {},
   "outputs": [],
   "source": [
    "plt.scatter(F, B , c='k')\n",
    "plt.plot(F,a*F+b, '--r')\n",
    "plt.errorbar(F, B, yerr=0.0001 ,xerr=0.00006 ,ecolor='k',fmt='ko')\n",
    "plt.text(0.0008,0.004,r'$y=2.23x+0.0014$',color='r')\n",
    "plt.title(r'$Campo \\ Magnetico$ vs $Torque \\ Gravitacional$')\n",
    "plt.xlim(0.0007,0.0013)\n",
    "plt.ylim(0.003,0.0045)\n",
    "plt.ylabel(r'$B(T)$')\n",
    "plt.xlabel(r'$rmg(N\\times m)$')\n",
    "plt.savefig('torque.pdf', format='pdf', dpi=1200)\n",
    "plt.close()"
   ]
  },
  {
   "cell_type": "code",
   "execution_count": 6,
   "metadata": {},
   "outputs": [
    {
     "name": "stdout",
     "output_type": "stream",
     "text": [
      "[ 0.00313781]\n"
     ]
    }
   ],
   "source": [
    "invB = 1/(I2*1.36*10**(-3))\n",
    "T = t1**2\n",
    "def f(m,x):\n",
    "    return m*x\n",
    "p1, _ = optimize.curve_fit(f, invB, T)\n",
    "x = np.linspace(0, 800, 100)\n",
    "print(p1)"
   ]
  },
  {
   "cell_type": "code",
   "execution_count": 7,
   "metadata": {},
   "outputs": [],
   "source": [
    "plt.scatter(invB, T , c='k')\n",
    "plt.plot(x,f(x,p1), '--b')\n",
    "plt.errorbar(invB, T, yerr=0.01 ,xerr=10.0 ,ecolor='k',fmt='ko')\n",
    "plt.text(600,1.4,r'$y=0.0031x$',color='b')\n",
    "plt.title(r'$Periodo$ vs $Inverso \\ del \\ Campo$')\n",
    "plt.xlim(0,800)\n",
    "plt.ylim(0,2.4)\n",
    "plt.ylabel(r'$T^2(s^2)$')\n",
    "plt.xlabel(r'$1/B (1/T)$')\n",
    "plt.savefig('periodo.pdf', format='pdf', dpi=1200)\n",
    "plt.close()"
   ]
  },
  {
   "cell_type": "code",
   "execution_count": 8,
   "metadata": {},
   "outputs": [
    {
     "name": "stdout",
     "output_type": "stream",
     "text": [
      "[ 332.78900683]\n"
     ]
    }
   ],
   "source": [
    "fre = 2*np.pi/t2\n",
    "B2 = I3*1.36*10**(-3)\n",
    "p2, _ = optimize.curve_fit(f, B2, fre)\n",
    "x = np.linspace(0, 0.006, 100)\n",
    "print(p2)"
   ]
  },
  {
   "cell_type": "code",
   "execution_count": 9,
   "metadata": {},
   "outputs": [],
   "source": [
    "plt.scatter(B2, fre , c='k')\n",
    "plt.plot(x,f(x,p2), '--b')\n",
    "plt.errorbar(B2, fre, yerr=0.0 ,xerr=0.0 ,ecolor='k',fmt='ko')\n",
    "plt.text(0.002,0.25,r'$y=53.1x$',color='b')\n",
    "plt.title(r'$Campo Magnetico$ vs $Frecuencia \\ de \\ Larmor$')\n",
    "plt.xlim(0,0.006)\n",
    "plt.ylim(0,0.35)\n",
    "plt.ylabel(r'$B(T)$')\n",
    "plt.xlabel(r'$\\Omega(1/s)$')\n",
    "plt.savefig('Larmor.pdf', format='pdf', dpi=1200)\n",
    "plt.close()"
   ]
  },
  {
   "cell_type": "code",
   "execution_count": 10,
   "metadata": {},
   "outputs": [
    {
     "name": "stdout",
     "output_type": "stream",
     "text": [
      "[ 60.88098214]\n"
     ]
    }
   ],
   "source": [
    "masa = m*10**(-3)\n",
    "L = (d3-14.795)*10**(-2)\n",
    "p3, _ = optimize.curve_fit(f, L, m)\n",
    "x = np.linspace(0,0.12, 100)\n",
    "print(p3)"
   ]
  },
  {
   "cell_type": "code",
   "execution_count": 14,
   "metadata": {},
   "outputs": [],
   "source": [
    "plt.scatter(L, m , c='k')\n",
    "plt.plot(x,f(x,p3), '--b')\n",
    "#plt.errorbar(L, m, yerr=0.0 ,xerr=0.0 ,ecolor='k',fmt='ko')\n",
    "plt.text(0.02,6,r'$y=60.9x$',color='b')\n",
    "plt.title(r'$Masa$ vs $Elongacion$')\n",
    "plt.xlim(0,0.13)\n",
    "plt.ylim(0,8)\n",
    "plt.xlabel(r'$Elongacion(m)$')\n",
    "plt.ylabel(r'$Masa(kg)$')\n",
    "plt.savefig('hooke.pdf', format='pdf', dpi=1200)\n",
    "plt.close()"
   ]
  },
  {
   "cell_type": "code",
   "execution_count": 12,
   "metadata": {},
   "outputs": [
    {
     "name": "stdout",
     "output_type": "stream",
     "text": [
      "[ 0.52604711]\n"
     ]
    }
   ],
   "source": [
    "d4 = (15.125-d2)*10**(-2)\n",
    "dB = I4*1.69*10**(-2)\n",
    "p4, _ = optimize.curve_fit(f, dB, d4)\n",
    "x = np.linspace(0,0.08, 100)\n",
    "print(p4)"
   ]
  },
  {
   "cell_type": "code",
   "execution_count": 17,
   "metadata": {},
   "outputs": [],
   "source": [
    "plt.scatter(dB, d4 , c='k')\n",
    "plt.plot(x,f(x,p4), '--b')\n",
    "#plt.errorbar(L, m, yerr=0.0 ,xerr=0.0 ,ecolor='k',fmt='ko')\n",
    "plt.text(0.02,0.04,r'$y=0.53x$',color='b')\n",
    "plt.title(r'$z$ vs $db/dz$')\n",
    "plt.xlim(0,0.08)\n",
    "plt.ylim(0,0.05)\n",
    "plt.xlabel(r'$db/dz$')\n",
    "plt.ylabel(r'$z(m)$')\n",
    "plt.savefig('dB.pdf', format='pdf', dpi=1200)\n",
    "plt.close()"
   ]
  },
  {
   "cell_type": "code",
   "execution_count": null,
   "metadata": {},
   "outputs": [],
   "source": []
  },
  {
   "cell_type": "code",
   "execution_count": null,
   "metadata": {},
   "outputs": [],
   "source": []
  },
  {
   "cell_type": "code",
   "execution_count": null,
   "metadata": {},
   "outputs": [],
   "source": []
  }
 ],
 "metadata": {
  "anaconda-cloud": {},
  "kernelspec": {
   "display_name": "Python [Root]",
   "language": "python",
   "name": "Python [Root]"
  },
  "language_info": {
   "codemirror_mode": {
    "name": "ipython",
    "version": 3
   },
   "file_extension": ".py",
   "mimetype": "text/x-python",
   "name": "python",
   "nbconvert_exporter": "python",
   "pygments_lexer": "ipython3",
   "version": "3.5.2"
  }
 },
 "nbformat": 4,
 "nbformat_minor": 2
}
